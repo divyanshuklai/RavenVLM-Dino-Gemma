{
 "cells": [
  {
   "cell_type": "code",
   "execution_count": 8,
   "id": "f3636c77",
   "metadata": {},
   "outputs": [],
   "source": [
    "# Make project root importable when running from notebooks/\n",
    "import sys, os\n",
    "project_root = os.path.abspath(os.path.join(os.getcwd(), \"..\"))\n",
    "if project_root not in sys.path:\n",
    "    sys.path.insert(0, project_root)\n",
    "\n",
    "from src.models.caption_modelling import GemmaDinoImageCaptioner"
   ]
  },
  {
   "cell_type": "code",
   "execution_count": 11,
   "id": "16ca91be",
   "metadata": {},
   "outputs": [
    {
     "data": {
      "application/vnd.jupyter.widget-view+json": {
       "model_id": "90cc919ca77747d1a276e4ba9e8f1982",
       "version_major": 2,
       "version_minor": 0
      },
      "text/plain": [
       "Fetching 1 files:   0%|          | 0/1 [00:00<?, ?it/s]"
      ]
     },
     "metadata": {},
     "output_type": "display_data"
    },
    {
     "data": {
      "text/plain": [
       "tensor(6.4113)"
      ]
     },
     "execution_count": 11,
     "metadata": {},
     "output_type": "execute_result"
    }
   ],
   "source": [
    "import torch\n",
    "model = GemmaDinoImageCaptioner()\n",
    "\n",
    "images = torch.rand(2,3,224,224)\n",
    "captions = [\"The first random image to test.\", \"The second random image to test.\"]\n",
    "\n",
    "with torch.no_grad():\n",
    "    outputs = model(images, captions)\n",
    "\n",
    "outputs.loss"
   ]
  },
  {
   "cell_type": "code",
   "execution_count": 3,
   "id": "dbdc0ed2",
   "metadata": {},
   "outputs": [
    {
     "data": {
      "text/plain": [
       "['DL_project_experiment_1.ipynb',\n",
       " 'vit',\n",
       " 'Experiment_2.ipynb',\n",
       " 'experiment-1.ipynb',\n",
       " 'gemma']"
      ]
     },
     "execution_count": 3,
     "metadata": {},
     "output_type": "execute_result"
    }
   ],
   "source": [
    "os.listdir(\".\")"
   ]
  },
  {
   "cell_type": "code",
   "execution_count": 12,
   "id": "fecdcc5d",
   "metadata": {},
   "outputs": [
    {
     "data": {
      "text/plain": [
       "['\\n\\n\\n\\n\\n\\n\\n\\n\\n\\n\\n\\n\\n\\n\\n\\n\\n\\n\\n\\n\\n\\n\\n\\n\\n\\n\\n\\n\\n\\n\\n\\n\\n\\n\\n\\n\\n\\n<h2><h2><h2><h2><h2><h2><h2><h2><h2><h2><h2>',\n",
       " '\\n\\n\\n\\n\\n\\n\\n\\n\\n\\n\\n\\n\\n\\n\\n\\n\\n\\n\\n\\n\\n\\n\\n\\n\\n\\n\\n\\n\\n\\n\\n\\n\\n\\n\\n\\n\\n\\n<h2><h2><h2><h2><h2><h2><h2><h2><h2><h2><h2>']"
      ]
     },
     "execution_count": 12,
     "metadata": {},
     "output_type": "execute_result"
    }
   ],
   "source": [
    "with torch.no_grad():\n",
    "    gen = model.inference_generate(images)\n",
    "gen"
   ]
  },
  {
   "cell_type": "code",
   "execution_count": null,
   "id": "54fe76a4",
   "metadata": {},
   "outputs": [],
   "source": []
  }
 ],
 "metadata": {
  "kernelspec": {
   "display_name": "project (3.13.3)",
   "language": "python",
   "name": "python3"
  },
  "language_info": {
   "codemirror_mode": {
    "name": "ipython",
    "version": 3
   },
   "file_extension": ".py",
   "mimetype": "text/x-python",
   "name": "python",
   "nbconvert_exporter": "python",
   "pygments_lexer": "ipython3",
   "version": "3.13.3"
  }
 },
 "nbformat": 4,
 "nbformat_minor": 5
}
