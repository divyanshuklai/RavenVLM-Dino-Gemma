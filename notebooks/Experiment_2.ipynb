{
 "cells": [
  {
   "cell_type": "code",
   "execution_count": 1,
   "id": "f3636c77",
   "metadata": {},
   "outputs": [],
   "source": [
    "# Make project root importable when running from notebooks/\n",
    "import sys, os\n",
    "project_root = os.path.abspath(os.path.join(os.getcwd(), \"..\"))\n",
    "if project_root not in sys.path:\n",
    "    sys.path.insert(0, project_root)\n",
    "\n",
    "from src.models.caption_modelling import GemmaDinoImageCaptioner"
   ]
  },
  {
   "cell_type": "code",
   "execution_count": 2,
   "id": "16ca91be",
   "metadata": {},
   "outputs": [
    {
     "data": {
      "application/vnd.jupyter.widget-view+json": {
       "model_id": "f1a84ae45eb641878e7500844a8ae8d0",
       "version_major": 2,
       "version_minor": 0
      },
      "text/plain": [
       "Fetching 1 files:   0%|          | 0/1 [00:00<?, ?it/s]"
      ]
     },
     "metadata": {},
     "output_type": "display_data"
    },
    {
     "data": {
      "text/plain": [
       "CausalLMOutputWithPast(loss=tensor(7.0278), logits=tensor([[[-16.3271,  -4.1619,  -4.8157,  ..., -16.3473, -16.2763, -16.2320],\n",
       "         [-37.1743, -16.5043, -19.0877,  ..., -37.2767, -37.1977, -37.2239],\n",
       "         [-28.6454,  -8.0993, -14.3641,  ..., -28.6643, -28.6126, -28.6419],\n",
       "         ...,\n",
       "         [-16.3714,  10.0893,  -5.6438,  ..., -16.3951, -16.3866, -16.4445],\n",
       "         [-15.8902,  10.6827,   1.1817,  ..., -15.9157, -15.8649, -15.9465],\n",
       "         [-14.5543,  13.7660,  -0.4028,  ..., -14.6093, -14.5992, -14.5968]],\n",
       "\n",
       "        [[-16.3271,  -4.1619,  -4.8157,  ..., -16.3473, -16.2764, -16.2320],\n",
       "         [-37.5630, -16.8049, -19.3152,  ..., -37.6634, -37.5855, -37.6097],\n",
       "         [-29.0993,  -8.3656, -14.6085,  ..., -29.1192, -29.0653, -29.0965],\n",
       "         ...,\n",
       "         [-14.3895,  11.0930,  -3.9436,  ..., -14.4040, -14.4032, -14.4516],\n",
       "         [-15.6372,  11.8202,   1.1101,  ..., -15.6715, -15.6260, -15.6956],\n",
       "         [-15.0254,  13.4682,  -0.9754,  ..., -15.0862, -15.0919, -15.0861]]]), past_key_values=DynamicCache(layers=[DynamicSlidingWindowLayer, DynamicSlidingWindowLayer, DynamicSlidingWindowLayer, DynamicSlidingWindowLayer, DynamicSlidingWindowLayer, DynamicLayer, DynamicSlidingWindowLayer, DynamicSlidingWindowLayer, DynamicSlidingWindowLayer, DynamicSlidingWindowLayer, DynamicSlidingWindowLayer, DynamicLayer, DynamicSlidingWindowLayer, DynamicSlidingWindowLayer, DynamicSlidingWindowLayer, DynamicSlidingWindowLayer, DynamicSlidingWindowLayer, DynamicLayer]), hidden_states=None, attentions=None)"
      ]
     },
     "execution_count": 2,
     "metadata": {},
     "output_type": "execute_result"
    }
   ],
   "source": [
    "import torch\n",
    "model = GemmaDinoImageCaptioner()\n",
    "\n",
    "images = torch.rand(2,3,224,224)\n",
    "captions = [\"The first random image to test.\", \"The second random image to test.\"]\n",
    "\n",
    "with torch.no_grad():\n",
    "    outputs = model(images, captions)\n",
    "\n",
    "outputs"
   ]
  },
  {
   "cell_type": "code",
   "execution_count": 3,
   "id": "dbdc0ed2",
   "metadata": {},
   "outputs": [
    {
     "data": {
      "text/plain": [
       "['DL_project_experiment_1.ipynb',\n",
       " 'vit',\n",
       " 'Experiment_2.ipynb',\n",
       " 'experiment-1.ipynb',\n",
       " 'gemma']"
      ]
     },
     "execution_count": 3,
     "metadata": {},
     "output_type": "execute_result"
    }
   ],
   "source": [
    "os.listdir(\".\")"
   ]
  },
  {
   "cell_type": "code",
   "execution_count": null,
   "id": "fecdcc5d",
   "metadata": {},
   "outputs": [],
   "source": []
  }
 ],
 "metadata": {
  "kernelspec": {
   "display_name": "project (3.13.3)",
   "language": "python",
   "name": "python3"
  },
  "language_info": {
   "codemirror_mode": {
    "name": "ipython",
    "version": 3
   },
   "file_extension": ".py",
   "mimetype": "text/x-python",
   "name": "python",
   "nbconvert_exporter": "python",
   "pygments_lexer": "ipython3",
   "version": "3.13.3"
  }
 },
 "nbformat": 4,
 "nbformat_minor": 5
}
